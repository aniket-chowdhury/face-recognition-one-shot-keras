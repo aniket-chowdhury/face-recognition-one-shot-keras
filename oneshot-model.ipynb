{
 "cells": [
  {
   "cell_type": "code",
   "execution_count": 1,
   "metadata": {},
   "outputs": [],
   "source": [
    "import numpy as np"
   ]
  },
  {
   "cell_type": "code",
   "execution_count": 2,
   "metadata": {},
   "outputs": [],
   "source": [
    "import tensorflow as tf"
   ]
  },
  {
   "cell_type": "code",
   "execution_count": 3,
   "metadata": {},
   "outputs": [
    {
     "name": "stderr",
     "output_type": "stream",
     "text": [
      "Using TensorFlow backend.\n"
     ]
    }
   ],
   "source": [
    "import keras\n",
    "from keras.layers import Conv2D, MaxPooling2D\n",
    "from keras.layers import Dense, Flatten, Dropout, Input\n",
    "from keras.models import Sequential\n",
    "from keras.models import Model\n",
    "from keras.optimizers import SGD, Adam\n",
    "from keras.layers.normalization import BatchNormalization\n",
    "from keras.layers.advanced_activations import LeakyReLU\n",
    "from keras.regularizers import l1,l2\n",
    "from keras import backend as K\n",
    "from keras.losses import binary_crossentropy,categorical_crossentropy"
   ]
  },
  {
   "cell_type": "code",
   "execution_count": 4,
   "metadata": {},
   "outputs": [],
   "source": [
    "from keras.layers import Lambda"
   ]
  },
  {
   "cell_type": "code",
   "execution_count": 5,
   "metadata": {},
   "outputs": [],
   "source": [
    "import matplotlib.pyplot as plt\n",
    "%matplotlib inline"
   ]
  },
  {
   "cell_type": "code",
   "execution_count": 20,
   "metadata": {},
   "outputs": [],
   "source": [
    "input_shape = (200,200,3)\n",
    "left = Input(input_shape)\n",
    "right = Input(input_shape)"
   ]
  },
  {
   "cell_type": "code",
   "execution_count": 35,
   "metadata": {},
   "outputs": [
    {
     "name": "stdout",
     "output_type": "stream",
     "text": [
      "_________________________________________________________________\n",
      "Layer (type)                 Output Shape              Param #   \n",
      "=================================================================\n",
      "conv2d_106 (Conv2D)          (None, 200, 200, 64)      76864     \n",
      "_________________________________________________________________\n",
      "leaky_re_lu_106 (LeakyReLU)  (None, 200, 200, 64)      0         \n",
      "_________________________________________________________________\n",
      "max_pooling2d_106 (MaxPoolin (None, 100, 100, 64)      0         \n",
      "_________________________________________________________________\n",
      "batch_normalization_106 (Bat (None, 100, 100, 64)      256       \n",
      "_________________________________________________________________\n",
      "dropout_106 (Dropout)        (None, 100, 100, 64)      0         \n",
      "_________________________________________________________________\n",
      "conv2d_107 (Conv2D)          (None, 100, 100, 64)      921664    \n",
      "_________________________________________________________________\n",
      "leaky_re_lu_107 (LeakyReLU)  (None, 100, 100, 64)      0         \n",
      "_________________________________________________________________\n",
      "max_pooling2d_107 (MaxPoolin (None, 50, 50, 64)        0         \n",
      "_________________________________________________________________\n",
      "batch_normalization_107 (Bat (None, 50, 50, 64)        256       \n",
      "_________________________________________________________________\n",
      "dropout_107 (Dropout)        (None, 50, 50, 64)        0         \n",
      "_________________________________________________________________\n",
      "conv2d_108 (Conv2D)          (None, 50, 50, 128)       819328    \n",
      "_________________________________________________________________\n",
      "leaky_re_lu_108 (LeakyReLU)  (None, 50, 50, 128)       0         \n",
      "_________________________________________________________________\n",
      "max_pooling2d_108 (MaxPoolin (None, 25, 25, 128)       0         \n",
      "_________________________________________________________________\n",
      "batch_normalization_108 (Bat (None, 25, 25, 128)       512       \n",
      "_________________________________________________________________\n",
      "dropout_108 (Dropout)        (None, 25, 25, 128)       0         \n",
      "_________________________________________________________________\n",
      "conv2d_109 (Conv2D)          (None, 25, 25, 128)       802944    \n",
      "_________________________________________________________________\n",
      "leaky_re_lu_109 (LeakyReLU)  (None, 25, 25, 128)       0         \n",
      "_________________________________________________________________\n",
      "max_pooling2d_109 (MaxPoolin (None, 12, 12, 128)       0         \n",
      "_________________________________________________________________\n",
      "batch_normalization_109 (Bat (None, 12, 12, 128)       512       \n",
      "_________________________________________________________________\n",
      "dropout_109 (Dropout)        (None, 12, 12, 128)       0         \n",
      "_________________________________________________________________\n",
      "conv2d_110 (Conv2D)          (None, 12, 12, 256)       1605888   \n",
      "_________________________________________________________________\n",
      "leaky_re_lu_110 (LeakyReLU)  (None, 12, 12, 256)       0         \n",
      "_________________________________________________________________\n",
      "max_pooling2d_110 (MaxPoolin (None, 6, 6, 256)         0         \n",
      "_________________________________________________________________\n",
      "batch_normalization_110 (Bat (None, 6, 6, 256)         1024      \n",
      "_________________________________________________________________\n",
      "dropout_110 (Dropout)        (None, 6, 6, 256)         0         \n",
      "_________________________________________________________________\n",
      "flatten_44 (Flatten)         (None, 9216)              0         \n",
      "_________________________________________________________________\n",
      "dense_24 (Dense)             (None, 3072)              28314624  \n",
      "=================================================================\n",
      "Total params: 32,543,872\n",
      "Trainable params: 32,542,592\n",
      "Non-trainable params: 1,280\n",
      "_________________________________________________________________\n",
      "__________________________________________________________________________________________________\n",
      "Layer (type)                    Output Shape         Param #     Connected to                     \n",
      "==================================================================================================\n",
      "input_3 (InputLayer)            (None, 200, 200, 3)  0                                            \n",
      "__________________________________________________________________________________________________\n",
      "input_4 (InputLayer)            (None, 200, 200, 3)  0                                            \n",
      "__________________________________________________________________________________________________\n",
      "sequential_22 (Sequential)      (None, 3072)         32543872    input_3[0][0]                    \n",
      "                                                                 input_4[0][0]                    \n",
      "__________________________________________________________________________________________________\n",
      "lambda_43 (Lambda)              (None, 3072)         0           sequential_22[1][0]              \n",
      "                                                                 sequential_22[2][0]              \n",
      "__________________________________________________________________________________________________\n",
      "dense_25 (Dense)                (None, 1)            3073        lambda_43[0][0]                  \n",
      "==================================================================================================\n",
      "Total params: 32,546,945\n",
      "Trainable params: 32,545,665\n",
      "Non-trainable params: 1,280\n",
      "__________________________________________________________________________________________________\n",
      "None None\n"
     ]
    }
   ],
   "source": [
    "model = Sequential()\n",
    "\n",
    "model.add(Conv2D(64,kernel_size=(20,20),input_shape=input_shape,padding='same',kernel_regularizer=l2(2e-5)))\n",
    "model.add(LeakyReLU(alpha=0.3))\n",
    "model.add(MaxPooling2D((2,2),strides=2))\n",
    "model.add(BatchNormalization())\n",
    "model.add(Dropout(0.50))\n",
    "\n",
    "model.add(Conv2D(64,kernel_size=(15,15),padding='same',kernel_regularizer=l2(2e-3)))\n",
    "model.add(LeakyReLU(alpha=0.3))\n",
    "model.add(MaxPooling2D((2,2),strides=2))\n",
    "model.add(BatchNormalization())\n",
    "model.add(Dropout(0.40))\n",
    "\n",
    "model.add(Conv2D(128,kernel_size=(10,10),padding='same',kernel_regularizer=l2(2e-3)))\n",
    "model.add(LeakyReLU(alpha=0.3))\n",
    "model.add(MaxPooling2D((2,2),strides=2))\n",
    "model.add(BatchNormalization())\n",
    "model.add(Dropout(0.30))\n",
    "\n",
    "model.add(Conv2D(128,kernel_size=(7,7),padding='same',kernel_regularizer=l2(1e-3)))\n",
    "model.add(LeakyReLU(alpha=0.3))\n",
    "model.add(MaxPooling2D((2,2),strides=2))\n",
    "model.add(BatchNormalization())\n",
    "model.add(Dropout(0.25))\n",
    "\n",
    "model.add(Conv2D(256,kernel_size=(7,7),padding='same',kernel_regularizer=l2(1e-3)))\n",
    "model.add(LeakyReLU(alpha=0.3))\n",
    "model.add(MaxPooling2D((2,2),strides=2))\n",
    "model.add(BatchNormalization())\n",
    "model.add(Dropout(0.25))\n",
    "\n",
    "model.add(Flatten())\n",
    "model.add(Dense(18432//6,activation='sigmoid',kernel_regularizer=l2(1e-3)))\n",
    "\n",
    "left_output = model(left)\n",
    "right_output = model(right)\n",
    "\n",
    "layer_lambda_2 = Lambda(lambda inputs:K.abs(inputs[0]-inputs[1]))\n",
    "\n",
    "layer_second_last = layer_lambda_2([left_output,right_output])\n",
    "\n",
    "#out = Flatten()(layer_second_last)\n",
    "\n",
    "#out = layer_lambda_1(flat)\n",
    "\n",
    "out = Dense(1,activation='sigmoid')(layer_second_last)\n",
    "\n",
    "network = Model(inputs=[left,right],outputs=out)\n",
    "\n",
    "print(model.summary(),network.summary())\n"
   ]
  },
  {
   "cell_type": "code",
   "execution_count": 23,
   "metadata": {},
   "outputs": [],
   "source": [
    "import os\n",
    "os.environ[\"PATH\"] += os.pathsep + 'C:/Program Files (x86)/Graphviz2.38/bin/'\n",
    "\n",
    "from keras.utils import plot_model\n",
    "plot_model(model, to_file='model.png')"
   ]
  },
  {
   "cell_type": "code",
   "execution_count": 26,
   "metadata": {},
   "outputs": [
    {
     "data": {
      "image/svg+xml": [
       "<svg height=\"191pt\" viewBox=\"0.00 0.00 278.00 191.00\" width=\"278pt\" xmlns=\"http://www.w3.org/2000/svg\" xmlns:xlink=\"http://www.w3.org/1999/xlink\">\n",
       "<g class=\"graph\" id=\"graph0\" transform=\"scale(1 1) rotate(0) translate(4 187)\">\n",
       "<title>G</title>\n",
       "<polygon fill=\"white\" points=\"-4,4 -4,-187 274,-187 274,4 -4,4\" stroke=\"none\"/>\n",
       "<!-- 2756570726184 -->\n",
       "<g class=\"node\" id=\"node1\"><title>2756570726184</title>\n",
       "<polygon fill=\"none\" points=\"0,-146.5 0,-182.5 126,-182.5 126,-146.5 0,-146.5\" stroke=\"black\"/>\n",
       "<text font-family=\"Times New Roman,serif\" font-size=\"14.00\" text-anchor=\"middle\" x=\"63\" y=\"-160.8\">input_3: InputLayer</text>\n",
       "</g>\n",
       "<!-- 2756575702096 -->\n",
       "<g class=\"node\" id=\"node3\"><title>2756575702096</title>\n",
       "<polygon fill=\"none\" points=\"69.5,-73.5 69.5,-109.5 200.5,-109.5 200.5,-73.5 69.5,-73.5\" stroke=\"black\"/>\n",
       "<text font-family=\"Times New Roman,serif\" font-size=\"14.00\" text-anchor=\"middle\" x=\"135\" y=\"-87.8\">lambda_25: Lambda</text>\n",
       "</g>\n",
       "<!-- 2756570726184&#45;&gt;2756575702096 -->\n",
       "<g class=\"edge\" id=\"edge1\"><title>2756570726184-&gt;2756575702096</title>\n",
       "<path d=\"M80.4292,-146.313C89.45,-137.417 100.613,-126.409 110.488,-116.672\" fill=\"none\" stroke=\"black\"/>\n",
       "<polygon fill=\"black\" points=\"113.068,-119.042 117.731,-109.529 108.153,-114.058 113.068,-119.042\" stroke=\"black\"/>\n",
       "</g>\n",
       "<!-- 2756570726240 -->\n",
       "<g class=\"node\" id=\"node2\"><title>2756570726240</title>\n",
       "<polygon fill=\"none\" points=\"144,-146.5 144,-182.5 270,-182.5 270,-146.5 144,-146.5\" stroke=\"black\"/>\n",
       "<text font-family=\"Times New Roman,serif\" font-size=\"14.00\" text-anchor=\"middle\" x=\"207\" y=\"-160.8\">input_4: InputLayer</text>\n",
       "</g>\n",
       "<!-- 2756570726240&#45;&gt;2756575702096 -->\n",
       "<g class=\"edge\" id=\"edge2\"><title>2756570726240-&gt;2756575702096</title>\n",
       "<path d=\"M189.571,-146.313C180.55,-137.417 169.387,-126.409 159.512,-116.672\" fill=\"none\" stroke=\"black\"/>\n",
       "<polygon fill=\"black\" points=\"161.847,-114.058 152.269,-109.529 156.932,-119.042 161.847,-114.058\" stroke=\"black\"/>\n",
       "</g>\n",
       "<!-- 2756580762680 -->\n",
       "<g class=\"node\" id=\"node4\"><title>2756580762680</title>\n",
       "<polygon fill=\"none\" points=\"77,-0.5 77,-36.5 193,-36.5 193,-0.5 77,-0.5\" stroke=\"black\"/>\n",
       "<text font-family=\"Times New Roman,serif\" font-size=\"14.00\" text-anchor=\"middle\" x=\"135\" y=\"-14.8\">flatten_27: Flatten</text>\n",
       "</g>\n",
       "<!-- 2756575702096&#45;&gt;2756580762680 -->\n",
       "<g class=\"edge\" id=\"edge3\"><title>2756575702096-&gt;2756580762680</title>\n",
       "<path d=\"M135,-73.3129C135,-65.2895 135,-55.5475 135,-46.5691\" fill=\"none\" stroke=\"black\"/>\n",
       "<polygon fill=\"black\" points=\"138.5,-46.5288 135,-36.5288 131.5,-46.5289 138.5,-46.5288\" stroke=\"black\"/>\n",
       "</g>\n",
       "</g>\n",
       "</svg>"
      ],
      "text/plain": [
       "<IPython.core.display.SVG object>"
      ]
     },
     "execution_count": 26,
     "metadata": {},
     "output_type": "execute_result"
    }
   ],
   "source": [
    "from IPython.display import SVG\n",
    "from keras.utils.vis_utils import model_to_dot\n",
    "\n",
    "SVG(model_to_dot(network).create(prog='dot', format='svg'))"
   ]
  },
  {
   "cell_type": "code",
   "execution_count": null,
   "metadata": {},
   "outputs": [],
   "source": []
  }
 ],
 "metadata": {
  "kernelspec": {
   "display_name": "Python 3",
   "language": "python",
   "name": "python3"
  },
  "language_info": {
   "codemirror_mode": {
    "name": "ipython",
    "version": 3
   },
   "file_extension": ".py",
   "mimetype": "text/x-python",
   "name": "python",
   "nbconvert_exporter": "python",
   "pygments_lexer": "ipython3",
   "version": "3.6.6"
  }
 },
 "nbformat": 4,
 "nbformat_minor": 2
}
