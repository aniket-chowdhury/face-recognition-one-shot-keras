{
 "cells": [
  {
   "cell_type": "code",
   "execution_count": 1,
   "metadata": {},
   "outputs": [],
   "source": [
    "import numpy as np"
   ]
  },
  {
   "cell_type": "code",
   "execution_count": 2,
   "metadata": {},
   "outputs": [],
   "source": [
    "import tensorflow as tf"
   ]
  },
  {
   "cell_type": "code",
   "execution_count": 27,
   "metadata": {},
   "outputs": [],
   "source": [
    "import keras\n",
    "from keras.layers import Conv2D, MaxPooling2D\n",
    "from keras.layers import Dense, Flatten, Dropout, Input\n",
    "from keras.models import Sequential\n",
    "from keras.models import Model\n",
    "from keras.optimizers import SGD, Adam\n",
    "from keras.layers.normalization import BatchNormalization\n",
    "from keras.layers.advanced_activations import LeakyReLU\n",
    "from keras.regularizers import l1,l2\n",
    "from keras import backend as K\n",
    "from keras.losses import binary_crossentropy,categorical_crossentropy"
   ]
  },
  {
   "cell_type": "code",
   "execution_count": 19,
   "metadata": {},
   "outputs": [],
   "source": [
    "from keras.layers import Lambda"
   ]
  },
  {
   "cell_type": "code",
   "execution_count": 4,
   "metadata": {},
   "outputs": [],
   "source": [
    "import matplotlib.pyplot as plt\n",
    "%matplotlib inline"
   ]
  },
  {
   "cell_type": "code",
   "execution_count": 5,
   "metadata": {},
   "outputs": [],
   "source": [
    "input_shape = (200,200,1)\n",
    "left = Input(input_shape)\n",
    "right = Input(input_shape)"
   ]
  },
  {
   "cell_type": "code",
   "execution_count": 70,
   "metadata": {},
   "outputs": [],
   "source": [
    "try:\n",
    "    model = Sequential()\n",
    "\n",
    "    model.add(Conv2D(64,kernel_size=(20,20),input_shape=input_shape,padding='same',kernel_regularizer=l2(2e-5)))\n",
    "    model.add(LeakyReLU(alpha=0.3))\n",
    "    model.add(MaxPooling2D((2,2),strides=2))\n",
    "    model.add(BatchNormalization())\n",
    "    model.add(Dropout(0.50))\n",
    "\n",
    "    model.add(Conv2D(128,kernel_size=(15,15),padding='same',kernel_regularizer=l2(2e-3)))\n",
    "    model.add(LeakyReLU(alpha=0.3))\n",
    "    model.add(MaxPooling2D((2,2),strides=2))\n",
    "    model.add(BatchNormalization())\n",
    "    model.add(Dropout(0.40))\n",
    "\n",
    "\n",
    "    model.add(Conv2D(256,kernel_size=(10,10),padding='same',kernel_regularizer=l2(2e-3)))\n",
    "    model.add(LeakyReLU(alpha=0.3))\n",
    "    model.add(MaxPooling2D((2,2),strides=2))\n",
    "    model.add(BatchNormalization())\n",
    "    model.add(Dropout(0.30))\n",
    "\n",
    "    model.add(Conv2D(512,kernel_size=(7,7),padding='same',kernel_regularizer=l2(1e-3)))\n",
    "    model.add(LeakyReLU(alpha=0.3))\n",
    "    model.add(MaxPooling2D((2,2),strides=2))\n",
    "    model.add(BatchNormalization())\n",
    "    model.add(Dropout(0.25))\n",
    "    \n",
    "    model.add(Conv2D(512,kernel_size=(7,7),padding='same',kernel_regularizer=l2(1e-3)))\n",
    "    model.add(LeakyReLU(alpha=0.3))\n",
    "    model.add(MaxPooling2D((2,2),strides=2))\n",
    "    model.add(BatchNormalization())\n",
    "    model.add(Dropout(0.25))\n",
    "    \n",
    "    model.add(Flatten())\n",
    "    model.add(Dense(3584,activation='sigmoid',kernel_regularizer=l2(1e-3)))\n",
    "    \n",
    "    left_output = model(left)\n",
    "    right_output = model(right)\n",
    "    \n",
    "    layer_lambda = Lambda(lambda inputs:K.abs(inputs[0]-inputs[1]))\n",
    "    layer_second_last = layer_lambda([left,right])\n",
    "        \n",
    "    out = Dense(1,activation='sigmoid') (layer_second_last)\n",
    "    \n",
    "    network = Model(inputs=[left,right],outputs=out)\n",
    "\n",
    "except Exception as e:\n",
    "    print(e)"
   ]
  },
  {
   "cell_type": "code",
   "execution_count": 71,
   "metadata": {},
   "outputs": [
    {
     "name": "stdout",
     "output_type": "stream",
     "text": [
      "_________________________________________________________________\n",
      "Layer (type)                 Output Shape              Param #   \n",
      "=================================================================\n",
      "conv2d_165 (Conv2D)          (None, 200, 200, 64)      25664     \n",
      "_________________________________________________________________\n",
      "leaky_re_lu_165 (LeakyReLU)  (None, 200, 200, 64)      0         \n",
      "_________________________________________________________________\n",
      "max_pooling2d_164 (MaxPoolin (None, 100, 100, 64)      0         \n",
      "_________________________________________________________________\n",
      "batch_normalization_164 (Bat (None, 100, 100, 64)      256       \n",
      "_________________________________________________________________\n",
      "dropout_164 (Dropout)        (None, 100, 100, 64)      0         \n",
      "_________________________________________________________________\n",
      "conv2d_166 (Conv2D)          (None, 100, 100, 128)     1843328   \n",
      "_________________________________________________________________\n",
      "leaky_re_lu_166 (LeakyReLU)  (None, 100, 100, 128)     0         \n",
      "_________________________________________________________________\n",
      "max_pooling2d_165 (MaxPoolin (None, 50, 50, 128)       0         \n",
      "_________________________________________________________________\n",
      "batch_normalization_165 (Bat (None, 50, 50, 128)       512       \n",
      "_________________________________________________________________\n",
      "dropout_165 (Dropout)        (None, 50, 50, 128)       0         \n",
      "_________________________________________________________________\n",
      "conv2d_167 (Conv2D)          (None, 50, 50, 256)       3277056   \n",
      "_________________________________________________________________\n",
      "leaky_re_lu_167 (LeakyReLU)  (None, 50, 50, 256)       0         \n",
      "_________________________________________________________________\n",
      "max_pooling2d_166 (MaxPoolin (None, 25, 25, 256)       0         \n",
      "_________________________________________________________________\n",
      "batch_normalization_166 (Bat (None, 25, 25, 256)       1024      \n",
      "_________________________________________________________________\n",
      "dropout_166 (Dropout)        (None, 25, 25, 256)       0         \n",
      "_________________________________________________________________\n",
      "conv2d_168 (Conv2D)          (None, 25, 25, 512)       6423040   \n",
      "_________________________________________________________________\n",
      "leaky_re_lu_168 (LeakyReLU)  (None, 25, 25, 512)       0         \n",
      "_________________________________________________________________\n",
      "max_pooling2d_167 (MaxPoolin (None, 12, 12, 512)       0         \n",
      "_________________________________________________________________\n",
      "batch_normalization_167 (Bat (None, 12, 12, 512)       2048      \n",
      "_________________________________________________________________\n",
      "dropout_167 (Dropout)        (None, 12, 12, 512)       0         \n",
      "_________________________________________________________________\n",
      "conv2d_169 (Conv2D)          (None, 12, 12, 512)       12845568  \n",
      "_________________________________________________________________\n",
      "leaky_re_lu_169 (LeakyReLU)  (None, 12, 12, 512)       0         \n",
      "_________________________________________________________________\n",
      "max_pooling2d_168 (MaxPoolin (None, 6, 6, 512)         0         \n",
      "_________________________________________________________________\n",
      "batch_normalization_168 (Bat (None, 6, 6, 512)         2048      \n",
      "_________________________________________________________________\n",
      "dropout_168 (Dropout)        (None, 6, 6, 512)         0         \n",
      "_________________________________________________________________\n",
      "flatten_33 (Flatten)         (None, 18432)             0         \n",
      "_________________________________________________________________\n",
      "dense_47 (Dense)             (None, 3584)              66063872  \n",
      "=================================================================\n",
      "Total params: 90,484,416\n",
      "Trainable params: 90,481,472\n",
      "Non-trainable params: 2,944\n",
      "_________________________________________________________________\n"
     ]
    }
   ],
   "source": [
    "model.summary()"
   ]
  },
  {
   "cell_type": "code",
   "execution_count": null,
   "metadata": {},
   "outputs": [],
   "source": []
  }
 ],
 "metadata": {
  "kernelspec": {
   "display_name": "Python 3",
   "language": "python",
   "name": "python3"
  },
  "language_info": {
   "codemirror_mode": {
    "name": "ipython",
    "version": 3
   },
   "file_extension": ".py",
   "mimetype": "text/x-python",
   "name": "python",
   "nbconvert_exporter": "python",
   "pygments_lexer": "ipython3",
   "version": "3.6.6"
  }
 },
 "nbformat": 4,
 "nbformat_minor": 2
}
